{
 "cells": [
  {
   "cell_type": "code",
   "execution_count": null,
   "id": "b7e060f6",
   "metadata": {},
   "outputs": [],
   "source": [
    "# HarmonyRec.ipynb\n",
    "\n",
    "import pandas as pd\n",
    "from src.data_preprocessing import load_data, preprocess_data, split_data\n",
    "from src.hybrid_recommender import build_model, train_model, evaluate_model\n",
    "\n",
    "# Load and preprocess data\n",
    "interactions, songs = load_data('data/interactions.csv', 'data/songs.csv')\n",
    "interactions, user_encoder, item_encoder = preprocess_data(interactions, songs)\n",
    "train_data, test_data = split_data(interactions)\n",
    "\n",
    "# Build and train model\n",
    "num_users = interactions['user'].nunique()\n",
    "num_items = interactions['item'].nunique()\n",
    "model = build_model(num_users, num_items)\n",
    "history = train_model(model, train_data)\n",
    "\n",
    "# Evaluate model\n",
    "precision, recall = evaluate_model(model, test_data)\n",
    "print(f'Precision: {precision}, Recall: {recall}')\n",
    "\n",
    "# Save the encoders for future use\n",
    "save_encoders(user_encoder, item_encoder, 'user_encoder.pkl', 'item_encoder.pkl')\n",
    "\n",
    "# Save metrics\n",
    "with open('results/metrics.txt', 'w') as f:\n",
    "    f.write(f'Precision: {precision}, Recall: {recall}')\n"
   ]
  }
 ],
 "metadata": {
  "kernelspec": {
   "display_name": "Python 3 (ipykernel)",
   "language": "python",
   "name": "python3"
  },
  "language_info": {
   "codemirror_mode": {
    "name": "ipython",
    "version": 3
   },
   "file_extension": ".py",
   "mimetype": "text/x-python",
   "name": "python",
   "nbconvert_exporter": "python",
   "pygments_lexer": "ipython3",
   "version": "3.9.12"
  }
 },
 "nbformat": 4,
 "nbformat_minor": 5
}
